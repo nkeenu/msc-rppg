{
 "cells": [
  {
   "cell_type": "code",
   "execution_count": null,
   "metadata": {},
   "outputs": [],
   "source": [
    "import os\n",
    "from glob import glob\n",
    "import pickle\n",
    "import numpy as np\n",
    "import pandas as pd\n",
    "from scipy.stats import pearsonr\n",
    "import matplotlib.pyplot as plt\n",
    "import seaborn as sns\n",
    "\n",
    "import rppg\n",
    "%matplotlib inline"
   ]
  },
  {
   "cell_type": "code",
   "execution_count": null,
   "metadata": {},
   "outputs": [],
   "source": [
    "paths = glob(\"results/**/metrics.npz\")\n",
    "for path in paths:\n",
    "    if \"leaveout\" not in path:\n",
    "        continue\n",
    "    name = os.path.basename(os.path.dirname(path))\n",
    "    data = np.load(path)\n",
    "    train_losses = data[\"train_losses\"]\n",
    "    val_losses = data[\"val_losses\"]\n",
    "    predictions = data[\"predictions\"]\n",
    "    labels = data[\"labels\"]\n",
    "\n",
    "    print(name.upper())\n",
    "    print(len(predictions))\n",
    "\n",
    "    rppg.plot_losses(train_losses, val_losses)\n",
    "    if \"clip\" in name:\n",
    "        rppg.plot_predictions(labels, predictions, clip=True)\n",
    "    else:\n",
    "        rppg.plot_predictions(labels, predictions)\n"
   ]
  }
 ],
 "metadata": {
  "kernelspec": {
   "display_name": "MSc",
   "language": "python",
   "name": "python3"
  },
  "language_info": {
   "codemirror_mode": {
    "name": "ipython",
    "version": 3
   },
   "file_extension": ".py",
   "mimetype": "text/x-python",
   "name": "python",
   "nbconvert_exporter": "python",
   "pygments_lexer": "ipython3",
   "version": "3.11.3"
  },
  "orig_nbformat": 4
 },
 "nbformat": 4,
 "nbformat_minor": 2
}
